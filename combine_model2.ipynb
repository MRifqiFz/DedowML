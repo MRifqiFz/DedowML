{
 "cells": [
  {
   "cell_type": "code",
   "execution_count": 1,
   "metadata": {},
   "outputs": [],
   "source": [
    "import os\n",
    "import numpy as np\n",
    "import matplotlib.pyplot as plt\n",
    "import pandas as pd\n",
    "import tensorflow as tf\n",
    "import random\n",
    "import wget\n",
    "import zipfile\n",
    "from sklearn.model_selection import train_test_split\n",
    "from keras.utils import np_utils\n",
    "from imblearn.under_sampling import RandomUnderSampler"
   ]
  },
  {
   "cell_type": "code",
   "execution_count": 2,
   "metadata": {},
   "outputs": [],
   "source": [
    "url = \"https://storage.googleapis.com/didow-ml-datasets/a-z-handwritten-data.zip\"\n",
    "url2 = \"https://storage.googleapis.com/didow-ml-datasets/mnist-letter.zip\"\n",
    "if not os.path.exists('a-z-handwritten-data.zip'):\n",
    "    filename = wget.download(url)\n",
    "    filename2 = wget.download(url2)\n"
   ]
  },
  {
   "cell_type": "code",
   "execution_count": 3,
   "metadata": {},
   "outputs": [],
   "source": [
    "local_zip = ['mnist-letter.zip', 'a-z-handwritten-data.zip']\n",
    "\n",
    "for i in local_zip:\n",
    "    zip_ref = zipfile.ZipFile(i, 'r')\n",
    "\n",
    "    zip_ref.extractall('./Dataset/')\n",
    "    zip_ref.close()\n"
   ]
  },
  {
   "cell_type": "code",
   "execution_count": 4,
   "metadata": {},
   "outputs": [],
   "source": [
    "az_data = pd.read_csv('Dataset\\A_Z Handwritten Data.csv')\n",
    "emnist_train = pd.read_csv('Dataset\\emnist-letters-train.csv')\n"
   ]
  },
  {
   "cell_type": "code",
   "execution_count": 5,
   "metadata": {},
   "outputs": [],
   "source": [
    "emnist_train_labels = np.array(emnist_train.iloc[:,0].values) - 1\n",
    "emnist_train_letters = np.array(emnist_train.iloc[:,1:].values)\n",
    "az_data_labels = np.array(az_data.iloc[:,0].values)\n",
    "az_data_letters = np.array(az_data.iloc[:,1:].values)"
   ]
  },
  {
   "cell_type": "code",
   "execution_count": 6,
   "metadata": {},
   "outputs": [
    {
     "data": {
      "text/plain": [
       "(88799, 784)"
      ]
     },
     "execution_count": 6,
     "metadata": {},
     "output_type": "execute_result"
    }
   ],
   "source": [
    "emnist_train_letters.shape"
   ]
  },
  {
   "cell_type": "code",
   "execution_count": 7,
   "metadata": {},
   "outputs": [],
   "source": [
    "def reshape_normalize(data):\n",
    "    data = data.astype('float32') / 255.0\n",
    "    data = data.reshape(-1, 28, 28, 1)\n",
    "    return data\n"
   ]
  },
  {
   "cell_type": "code",
   "execution_count": 8,
   "metadata": {},
   "outputs": [],
   "source": [
    "def reshape_rotate(data):\n",
    "    data = data.reshape(28, 28)\n",
    "    data = np.fliplr(data)\n",
    "    data = np.rot90(data)\n",
    "    return data\n"
   ]
  },
  {
   "cell_type": "code",
   "execution_count": 9,
   "metadata": {},
   "outputs": [],
   "source": [
    "emnist_train_letters = np.apply_along_axis(\n",
    "    reshape_rotate, 1, emnist_train_letters)\n"
   ]
  },
  {
   "cell_type": "code",
   "execution_count": 10,
   "metadata": {},
   "outputs": [],
   "source": [
    "az_data_letters = az_data_letters.reshape(len(az_data_letters), 28, 28)\n"
   ]
  },
  {
   "cell_type": "code",
   "execution_count": 11,
   "metadata": {},
   "outputs": [
    {
     "name": "stdout",
     "output_type": "stream",
     "text": [
      "(372450, 28, 28) (88799, 28, 28)\n"
     ]
    }
   ],
   "source": [
    "print(az_data_letters.shape, emnist_train_letters.shape)\n"
   ]
  },
  {
   "cell_type": "code",
   "execution_count": 12,
   "metadata": {},
   "outputs": [],
   "source": [
    "letters_data = np.vstack([emnist_train_letters, az_data_letters])\n",
    "labels_data = np.hstack([emnist_train_labels, az_data_labels])\n"
   ]
  },
  {
   "cell_type": "code",
   "execution_count": 13,
   "metadata": {},
   "outputs": [
    {
     "data": {
      "text/plain": [
       "(461249, 28, 28)"
      ]
     },
     "execution_count": 13,
     "metadata": {},
     "output_type": "execute_result"
    }
   ],
   "source": [
    "letters_data.shape"
   ]
  },
  {
   "cell_type": "code",
   "execution_count": 14,
   "metadata": {},
   "outputs": [],
   "source": [
    "undersampler = RandomUnderSampler(sampling_strategy='all')\n",
    "\n",
    "letters_data = letters_data.reshape(-1, 784)\n",
    "\n",
    "letters, labels = undersampler.fit_resample(letters_data, labels_data)"
   ]
  },
  {
   "cell_type": "code",
   "execution_count": 15,
   "metadata": {},
   "outputs": [
    {
     "data": {
      "text/plain": [
       "(118248, 784)"
      ]
     },
     "execution_count": 15,
     "metadata": {},
     "output_type": "execute_result"
    }
   ],
   "source": [
    "letters.shape"
   ]
  },
  {
   "cell_type": "code",
   "execution_count": 16,
   "metadata": {},
   "outputs": [],
   "source": [
    "x_train, x_test, y_train, y_test = train_test_split(letters,\n",
    "                                                    labels,\n",
    "                                                    test_size=0.2,\n",
    "                                                    random_state=42)\n"
   ]
  },
  {
   "cell_type": "code",
   "execution_count": 17,
   "metadata": {},
   "outputs": [],
   "source": [
    "x_train = reshape_normalize(x_train)\n",
    "x_test = reshape_normalize(x_test)\n"
   ]
  },
  {
   "cell_type": "code",
   "execution_count": 18,
   "metadata": {},
   "outputs": [
    {
     "data": {
      "image/png": "[encoded data removed]",
      "text/plain": [
       "<Figure size 432x288 with 1 Axes>"
      ]
     },
     "metadata": {
      "needs_background": "light"
     },
     "output_type": "display_data"
    }
   ],
   "source": [
    "letters = ['A', 'B', 'C', 'D', 'E', 'F', 'G', 'H', 'I', 'J', 'K', 'L',\n",
    "           'M', 'N', 'O', 'P', 'Q', 'R', 'S', 'T', 'U', 'V', 'W', 'X', 'Y', 'Z']\n",
    "\n",
    "\n",
    "def show_image(image, label):\n",
    "    image = image.reshape([28, 28])\n",
    "    plt.title('Label :' + letters[label])\n",
    "    plt.imshow(image)\n",
    "\n",
    "\n",
    "n = random.randint(0, len(x_train))\n",
    "show_image(x_train[n], y_train[n])\n"
   ]
  },
  {
   "cell_type": "code",
   "execution_count": 19,
   "metadata": {},
   "outputs": [],
   "source": [
    "y_train = np_utils.to_categorical(y_train, 26)\n",
    "y_test = np_utils.to_categorical(y_test, 26)\n"
   ]
  },
  {
   "cell_type": "code",
   "execution_count": 20,
   "metadata": {},
   "outputs": [
    {
     "name": "stdout",
     "output_type": "stream",
     "text": [
      "training set:  (94598, 28, 28, 1) (94598, 26)\n",
      "test set:  (23650, 28, 28, 1) (23650, 26)\n"
     ]
    }
   ],
   "source": [
    "print('training set: ', x_train.shape, y_train.shape)\n",
    "print('test set: ', x_test.shape, y_test.shape)\n"
   ]
  },
  {
   "cell_type": "code",
   "execution_count": 21,
   "metadata": {},
   "outputs": [
    {
     "name": "stdout",
     "output_type": "stream",
     "text": [
      "Model: \"sequential\"\n",
      "_________________________________________________________________\n",
      " Layer (type)                Output Shape              Param #   \n",
      "=================================================================\n",
      " conv2d (Conv2D)             (None, 28, 28, 32)        832       \n",
      "                                                                 \n",
      " max_pooling2d (MaxPooling2D  (None, 14, 14, 32)       0         \n",
      " )                                                               \n",
      "                                                                 \n",
      " conv2d_1 (Conv2D)           (None, 14, 14, 64)        51264     \n",
      "                                                                 \n",
      " max_pooling2d_1 (MaxPooling  (None, 7, 7, 64)         0         \n",
      " 2D)                                                             \n",
      "                                                                 \n",
      " dropout (Dropout)           (None, 7, 7, 64)          0         \n",
      "                                                                 \n",
      " flatten (Flatten)           (None, 3136)              0         \n",
      "                                                                 \n",
      " dense (Dense)               (None, 128)               401536    \n",
      "                                                                 \n",
      " dropout_1 (Dropout)         (None, 128)               0         \n",
      "                                                                 \n",
      " dense_1 (Dense)             (None, 26)                3354      \n",
      "                                                                 \n",
      "=================================================================\n",
      "Total params: 456,986\n",
      "Trainable params: 456,986\n",
      "Non-trainable params: 0\n",
      "_________________________________________________________________\n"
     ]
    }
   ],
   "source": [
    "model = tf.keras.Sequential([\n",
    "        tf.keras.layers.Conv2D(32, 5, padding='same', activation='relu', input_shape=(28, 28, 1)),\n",
    "        tf.keras.layers.MaxPooling2D(2, 2),\n",
    "        tf.keras.layers.Conv2D(64, 5, activation='relu', padding='same'),\n",
    "        tf.keras.layers.MaxPooling2D(2, 2),\n",
    "        tf.keras.layers.Dropout(0.25),\n",
    "        tf.keras.layers.Flatten(),\n",
    "        tf.keras.layers.Dense(128, activation='relu'),\n",
    "        tf.keras.layers.Dropout(0.5),\n",
    "        tf.keras.layers.Dense(26, activation='softmax')\n",
    "])\n",
    "\n",
    "model.compile(optimizer='adam',\n",
    "              loss='categorical_crossentropy', metrics=['accuracy'])\n",
    "model.summary()\n"
   ]
  },
  {
   "cell_type": "code",
   "execution_count": 22,
   "metadata": {},
   "outputs": [
    {
     "name": "stdout",
     "output_type": "stream",
     "text": [
      "Epoch 1/20\n",
      "296/296 [==============================] - 8s 9ms/step - loss: 0.9425 - accuracy: 0.7235 - val_loss: 0.2744 - val_accuracy: 0.9192\n",
      "Epoch 2/20\n",
      "296/296 [==============================] - 3s 9ms/step - loss: 0.3827 - accuracy: 0.8860 - val_loss: 0.2034 - val_accuracy: 0.9390\n",
      "Epoch 3/20\n",
      "296/296 [==============================] - 3s 8ms/step - loss: 0.2985 - accuracy: 0.9115 - val_loss: 0.1764 - val_accuracy: 0.9459\n",
      "Epoch 4/20\n",
      "296/296 [==============================] - 2s 8ms/step - loss: 0.2571 - accuracy: 0.9225 - val_loss: 0.1577 - val_accuracy: 0.9522\n",
      "Epoch 5/20\n",
      "296/296 [==============================] - 2s 8ms/step - loss: 0.2258 - accuracy: 0.9312 - val_loss: 0.1510 - val_accuracy: 0.9549\n",
      "Epoch 6/20\n",
      "296/296 [==============================] - 2s 8ms/step - loss: 0.2070 - accuracy: 0.9363 - val_loss: 0.1383 - val_accuracy: 0.9578\n",
      "Epoch 7/20\n",
      "296/296 [==============================] - 2s 8ms/step - loss: 0.1902 - accuracy: 0.9411 - val_loss: 0.1334 - val_accuracy: 0.9596\n",
      "Epoch 8/20\n",
      "296/296 [==============================] - 2s 8ms/step - loss: 0.1760 - accuracy: 0.9443 - val_loss: 0.1307 - val_accuracy: 0.9601\n",
      "Epoch 9/20\n",
      "296/296 [==============================] - 2s 8ms/step - loss: 0.1654 - accuracy: 0.9485 - val_loss: 0.1269 - val_accuracy: 0.9632\n",
      "Epoch 10/20\n",
      "296/296 [==============================] - 2s 8ms/step - loss: 0.1554 - accuracy: 0.9508 - val_loss: 0.1228 - val_accuracy: 0.9629\n",
      "Epoch 11/20\n",
      "296/296 [==============================] - 2s 8ms/step - loss: 0.1486 - accuracy: 0.9520 - val_loss: 0.1188 - val_accuracy: 0.9643\n",
      "Epoch 12/20\n",
      "296/296 [==============================] - 2s 8ms/step - loss: 0.1429 - accuracy: 0.9541 - val_loss: 0.1197 - val_accuracy: 0.9650\n",
      "Epoch 13/20\n",
      "296/296 [==============================] - 2s 8ms/step - loss: 0.1363 - accuracy: 0.9553 - val_loss: 0.1154 - val_accuracy: 0.9650\n",
      "Epoch 14/20\n",
      "296/296 [==============================] - 2s 8ms/step - loss: 0.1321 - accuracy: 0.9570 - val_loss: 0.1140 - val_accuracy: 0.9661\n",
      "Epoch 15/20\n",
      "296/296 [==============================] - 2s 8ms/step - loss: 0.1263 - accuracy: 0.9584 - val_loss: 0.1149 - val_accuracy: 0.9667\n",
      "Epoch 16/20\n",
      "296/296 [==============================] - 2s 8ms/step - loss: 0.1201 - accuracy: 0.9605 - val_loss: 0.1182 - val_accuracy: 0.9652\n",
      "Epoch 17/20\n",
      "296/296 [==============================] - 2s 8ms/step - loss: 0.1157 - accuracy: 0.9608 - val_loss: 0.1160 - val_accuracy: 0.9672\n",
      "Epoch 18/20\n",
      "296/296 [==============================] - 2s 8ms/step - loss: 0.1117 - accuracy: 0.9626 - val_loss: 0.1154 - val_accuracy: 0.9672\n",
      "Epoch 19/20\n",
      "296/296 [==============================] - 2s 8ms/step - loss: 0.1079 - accuracy: 0.9639 - val_loss: 0.1134 - val_accuracy: 0.9682\n",
      "Epoch 20/20\n",
      "296/296 [==============================] - 2s 8ms/step - loss: 0.1063 - accuracy: 0.9636 - val_loss: 0.1120 - val_accuracy: 0.9686\n"
     ]
    }
   ],
   "source": [
    "history = model.fit(x_train, y_train, validation_split=0.2,\n",
    "                    epochs=20, verbose=1, batch_size=256)\n"
   ]
  },
  {
   "cell_type": "code",
   "execution_count": 29,
   "metadata": {},
   "outputs": [
    {
     "data": {
      "image/png": "[encoded data removed]",
      "text/plain": [
       "<Figure size 432x288 with 1 Axes>"
      ]
     },
     "metadata": {
      "needs_background": "light"
     },
     "output_type": "display_data"
    },
    {
     "data": {
      "text/plain": [
       "<Figure size 432x288 with 0 Axes>"
      ]
     },
     "metadata": {},
     "output_type": "display_data"
    }
   ],
   "source": [
    "acc = history.history['accuracy']\n",
    "val_acc = history.history['val_accuracy']\n",
    "loss = history.history['loss']\n",
    "val_loss = history.history['val_loss']\n",
    "\n",
    "epochs = range(len(acc))\n",
    "\n",
    "plt.plot(epochs, acc, 'r', label='Training accuracy')\n",
    "plt.plot(epochs, val_acc, 'b', label='Validation accuracy')\n",
    "plt.title('Training and validation accuracy')\n",
    "plt.legend(loc=0)\n",
    "plt.figure()\n",
    "\n",
    "plt.show()\n"
   ]
  },
  {
   "cell_type": "code",
   "execution_count": 30,
   "metadata": {},
   "outputs": [
    {
     "data": {
      "image/png": "[encoded data removed]",
      "text/plain": [
       "<Figure size 432x288 with 1 Axes>"
      ]
     },
     "metadata": {
      "needs_background": "light"
     },
     "output_type": "display_data"
    },
    {
     "data": {
      "text/plain": [
       "<Figure size 432x288 with 0 Axes>"
      ]
     },
     "metadata": {},
     "output_type": "display_data"
    }
   ],
   "source": [
    "plt.plot(epochs, loss, 'r', label='Training loss')\n",
    "plt.plot(epochs, val_loss, 'b', label='Validation loss')\n",
    "plt.title('Training and validation loss')\n",
    "plt.legend(loc=0)\n",
    "plt.figure()\n",
    "\n",
    "plt.show()\n"
   ]
  },
  {
   "cell_type": "code",
   "execution_count": 31,
   "metadata": {},
   "outputs": [
    {
     "name": "stdout",
     "output_type": "stream",
     "text": [
      "740/740 - 1s - loss: 0.1113 - accuracy: 0.9681 - 1s/epoch - 2ms/step\n",
      "Test Loss:  0.11130104959011078\n",
      "Test Accuracy:  0.9680761098861694\n"
     ]
    }
   ],
   "source": [
    "test_loss, test_accuracy = model.evaluate(x_test, y_test, verbose = 2)\n",
    "\n",
    "print(\"Test Loss: \",test_loss)\n",
    "print(\"Test Accuracy: \",test_accuracy)"
   ]
  },
  {
   "cell_type": "code",
   "execution_count": 32,
   "metadata": {},
   "outputs": [],
   "source": [
    "list_letters = []\n",
    "for i in range(len(y_test)):\n",
    "    ltr = letters[np.argmax(y_test[i])]\n",
    "    if ltr == 'K':\n",
    "        list_letters.append(i)\n"
   ]
  },
  {
   "cell_type": "code",
   "execution_count": 33,
   "metadata": {},
   "outputs": [
    {
     "name": "stdout",
     "output_type": "stream",
     "text": [
      "1/1 [==============================] - 0s 11ms/step\n",
      "1/1 [==============================] - 0s 12ms/step\n",
      "1/1 [==============================] - 0s 12ms/step\n",
      "1/1 [==============================] - 0s 13ms/step\n",
      "1/1 [==============================] - 0s 12ms/step\n",
      "1/1 [==============================] - 0s 11ms/step\n",
      "1/1 [==============================] - 0s 13ms/step\n",
      "1/1 [==============================] - 0s 12ms/step\n",
      "1/1 [==============================] - 0s 12ms/step\n",
      "1/1 [==============================] - 0s 10ms/step\n",
      "1/1 [==============================] - 0s 12ms/step\n",
      "1/1 [==============================] - 0s 11ms/step\n",
      "1/1 [==============================] - 0s 11ms/step\n",
      "1/1 [==============================] - 0s 11ms/step\n",
      "1/1 [==============================] - 0s 12ms/step\n",
      "1/1 [==============================] - 0s 10ms/step\n",
      "1/1 [==============================] - 0s 12ms/step\n",
      "1/1 [==============================] - 0s 13ms/step\n",
      "1/1 [==============================] - 0s 11ms/step\n",
      "1/1 [==============================] - 0s 12ms/step\n",
      "1/1 [==============================] - 0s 12ms/step\n",
      "1/1 [==============================] - 0s 11ms/step\n",
      "1/1 [==============================] - 0s 12ms/step\n",
      "1/1 [==============================] - 0s 13ms/step\n",
      "1/1 [==============================] - 0s 12ms/step\n"
     ]
    },
    {
     "data": {
      "image/png": "[encoded data removed]",
      "text/plain": [
       "<Figure size 720x1008 with 25 Axes>"
      ]
     },
     "metadata": {
      "needs_background": "light"
     },
     "output_type": "display_data"
    }
   ],
   "source": [
    "fig, axes = plt.subplots(5, 5, figsize=(10, 14))\n",
    "axes = axes.flatten()\n",
    "\n",
    "for i, ax in enumerate(axes):\n",
    "    n = list_letters[i]\n",
    "    img = np.reshape(x_test[n], (28, 28))\n",
    "    # img = np.fliplr(img)\n",
    "    # img = np.rot90(img)\n",
    "    ax.imshow(img, cmap=\"Greys\")\n",
    "    # reshapng it for passing into model for prediction\n",
    "    img_final = np.reshape(img, (1, 28, 28, 1))\n",
    "    pred = letters[np.argmax(model.predict(img_final))]\n",
    "    ax.set_title(\"Prediction: {}\\nLabel: {}\".format(\n",
    "        pred, letters[np.argmax(y_test[n])]))\n",
    "    ax.grid()\n"
   ]
  },
  {
   "cell_type": "code",
   "execution_count": 35,
   "metadata": {},
   "outputs": [
    {
     "name": "stderr",
     "output_type": "stream",
     "text": [
      "WARNING:absl:Found untraced functions such as _jit_compiled_convolution_op, _jit_compiled_convolution_op while saving (showing 2 of 2). These functions will not be directly callable after loading.\n"
     ]
    },
    {
     "name": "stdout",
     "output_type": "stream",
     "text": [
      "INFO:tensorflow:Assets written to: ./Model/combine/5\\assets\n"
     ]
    },
    {
     "name": "stderr",
     "output_type": "stream",
     "text": [
      "INFO:tensorflow:Assets written to: ./Model/combine/5\\assets\n"
     ]
    }
   ],
   "source": [
    "model_version = '5'\n",
    "model_name = 'combine'\n",
    "save_path = \"./Model/{}/{}\".format(model_name, model_version)\n",
    "model.save(save_path)\n"
   ]
  },
  {
   "cell_type": "code",
   "execution_count": null,
   "metadata": {},
   "outputs": [],
   "source": []
  }
 ],
 "metadata": {
  "interpreter": {
   "hash": "f49d1d624676e32264d1c8e10ba1cf881153b7980d7b6a6c7a53db057505eedd"
  },
  "kernelspec": {
   "display_name": "Python 3.10.0 ('tf2.9')",
   "language": "python",
   "name": "python3"
  },
  "language_info": {
   "codemirror_mode": {
    "name": "ipython",
    "version": 3
   },
   "file_extension": ".py",
   "mimetype": "text/x-python",
   "name": "python",
   "nbconvert_exporter": "python",
   "pygments_lexer": "ipython3",
   "version": "3.10.0"
  },
  "orig_nbformat": 4
 },
 "nbformat": 4,
 "nbformat_minor": 2
}
