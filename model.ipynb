{
 "cells": [
  {
   "cell_type": "code",
   "execution_count": 1,
   "metadata": {},
   "outputs": [],
   "source": [
    "import os\n",
    "import numpy as np\n",
    "import matplotlib.pyplot as plt\n",
    "import pandas as pd\n",
    "import tensorflow as tf\n",
    "import random\n",
    "from sklearn.model_selection import train_test_split"
   ]
  },
  {
   "cell_type": "code",
   "execution_count": 2,
   "metadata": {},
   "outputs": [],
   "source": [
    "train = pd.read_csv('Data\\emnist-letters-train.csv')\n",
    "test = pd.read_csv('Data\\emnist-letters-test.csv')"
   ]
  },
  {
   "cell_type": "code",
   "execution_count": 3,
   "metadata": {},
   "outputs": [],
   "source": [
    "train_labels = np.array(train.iloc[:,0].values) - 1\n",
    "train_letters = np.array(train.iloc[:,1:].values)\n",
    "\n",
    "test_labels = np.array(test.iloc[:,0].values) - 1\n",
    "test_letters = np.array(test.iloc[:,1:].values)"
   ]
  },
  {
   "cell_type": "code",
   "execution_count": 4,
   "metadata": {},
   "outputs": [],
   "source": [
    "def reshape_normalize(data):\n",
    "    data = data / 255.0\n",
    "    data = data.reshape(len(data), 28, 28, 1)\n",
    "    return data"
   ]
  },
  {
   "cell_type": "code",
   "execution_count": 5,
   "metadata": {},
   "outputs": [
    {
     "name": "stdout",
     "output_type": "stream",
     "text": [
      "training set:  (71039, 28, 28, 1) (71039,)\n",
      "validation set:  (17760, 28, 28, 1) (17760,)\n",
      "test set:  (14799, 28, 28, 1) (14799,)\n"
     ]
    }
   ],
   "source": [
    "train_letters = reshape_normalize(train_letters)\n",
    "test_letters = reshape_normalize(test_letters)\n",
    "\n",
    "x_train, x_val, y_train, y_val = train_test_split(train_letters,\n",
    "                                                  train_labels,\n",
    "                                                  test_size=0.2,\n",
    "                                                  random_state=42)\n",
    "\n",
    "print('training set: ', x_train.shape, y_train.shape)\n",
    "print('validation set: ', x_val.shape, y_val.shape)\n",
    "print('test set: ', test_letters.shape, test_labels.shape)"
   ]
  },
  {
   "cell_type": "code",
   "execution_count": 9,
   "metadata": {},
   "outputs": [
    {
     "data": {
      "image/png": "[encoded data removed]",
      "text/plain": [
       "<Figure size 432x288 with 1 Axes>"
      ]
     },
     "metadata": {
      "needs_background": "light"
     },
     "output_type": "display_data"
    }
   ],
   "source": [
    "letters = ['A', 'B', 'C', 'D', 'E', 'F', 'G', 'H', 'I', 'J', 'K', 'L', 'M', 'N', 'O', 'P', 'Q', 'R', 'S', 'T', 'U', 'V', 'W', 'X', 'Y', 'Z']\n",
    "\n",
    "def show_image(image, label):\n",
    "    image = image.reshape([28, 28])\n",
    "    image = np.fliplr(image)\n",
    "    image = np.rot90(image)\n",
    "    plt.title('Label :' + letters[label])\n",
    "    plt.imshow(image)\n",
    "\n",
    "n = random.randint(0, len(x_train))\n",
    "show_image(x_train[n], y_train[n])"
   ]
  },
  {
   "cell_type": "code",
   "execution_count": 10,
   "metadata": {},
   "outputs": [
    {
     "name": "stdout",
     "output_type": "stream",
     "text": [
      "Model: \"sequential\"\n",
      "_________________________________________________________________\n",
      " Layer (type)                Output Shape              Param #   \n",
      "=================================================================\n",
      " conv2d (Conv2D)             (None, 26, 26, 32)        320       \n",
      "                                                                 \n",
      " max_pooling2d (MaxPooling2D  (None, 13, 13, 32)       0         \n",
      " )                                                               \n",
      "                                                                 \n",
      " flatten (Flatten)           (None, 5408)              0         \n",
      "                                                                 \n",
      " dense (Dense)               (None, 128)               692352    \n",
      "                                                                 \n",
      " dense_1 (Dense)             (None, 26)                3354      \n",
      "                                                                 \n",
      "=================================================================\n",
      "Total params: 696,026\n",
      "Trainable params: 696,026\n",
      "Non-trainable params: 0\n",
      "_________________________________________________________________\n"
     ]
    }
   ],
   "source": [
    "model = tf.keras.Sequential([ \n",
    "    tf.keras.layers.Conv2D(32, 3, input_shape=(28,28,1)),\n",
    "    tf.keras.layers.MaxPooling2D(2,2),\n",
    "    tf.keras.layers.Flatten(),\n",
    "    tf.keras.layers.Dense(128, activation='relu'),\n",
    "    tf.keras.layers.Dense(26, activation='softmax')\n",
    "])\n",
    "\n",
    "model.compile(optimizer='adam', loss='sparse_categorical_crossentropy', metrics=['accuracy'])\n",
    "model.summary()"
   ]
  },
  {
   "cell_type": "code",
   "execution_count": 11,
   "metadata": {},
   "outputs": [
    {
     "name": "stdout",
     "output_type": "stream",
     "text": [
      "Epoch 1/10\n",
      "2220/2220 [==============================] - 37s 16ms/step - loss: 0.6510 - accuracy: 0.8020 - val_loss: 0.4225 - val_accuracy: 0.8674\n",
      "Epoch 2/10\n",
      "2220/2220 [==============================] - 33s 15ms/step - loss: 0.3279 - accuracy: 0.8936 - val_loss: 0.3449 - val_accuracy: 0.8874\n",
      "Epoch 3/10\n",
      "2220/2220 [==============================] - 39s 17ms/step - loss: 0.2556 - accuracy: 0.9144 - val_loss: 0.3156 - val_accuracy: 0.8990\n",
      "Epoch 4/10\n",
      "2220/2220 [==============================] - 41s 18ms/step - loss: 0.2084 - accuracy: 0.9285 - val_loss: 0.3165 - val_accuracy: 0.8994\n",
      "Epoch 5/10\n",
      "2220/2220 [==============================] - 32s 14ms/step - loss: 0.1773 - accuracy: 0.9377 - val_loss: 0.3210 - val_accuracy: 0.8994\n",
      "Epoch 6/10\n",
      "2220/2220 [==============================] - 31s 14ms/step - loss: 0.1527 - accuracy: 0.9442 - val_loss: 0.3458 - val_accuracy: 0.8983\n",
      "Epoch 7/10\n",
      "2220/2220 [==============================] - 33s 15ms/step - loss: 0.1333 - accuracy: 0.9505 - val_loss: 0.3605 - val_accuracy: 0.8931\n",
      "Epoch 8/10\n",
      "2220/2220 [==============================] - 40s 18ms/step - loss: 0.1188 - accuracy: 0.9547 - val_loss: 0.3633 - val_accuracy: 0.9027\n",
      "Epoch 9/10\n",
      "2220/2220 [==============================] - 39s 17ms/step - loss: 0.1047 - accuracy: 0.9594 - val_loss: 0.3840 - val_accuracy: 0.8990\n",
      "Epoch 10/10\n",
      "2220/2220 [==============================] - 35s 16ms/step - loss: 0.0967 - accuracy: 0.9620 - val_loss: 0.4023 - val_accuracy: 0.9012\n"
     ]
    }
   ],
   "source": [
    "history = model.fit(x_train, y_train, validation_data = (x_val, y_val), epochs = 10)"
   ]
  },
  {
   "cell_type": "code",
   "execution_count": 12,
   "metadata": {},
   "outputs": [
    {
     "data": {
      "image/png": "[encoded data removed]",
      "text/plain": [
       "<Figure size 432x288 with 1 Axes>"
      ]
     },
     "metadata": {
      "needs_background": "light"
     },
     "output_type": "display_data"
    },
    {
     "data": {
      "text/plain": [
       "<Figure size 432x288 with 0 Axes>"
      ]
     },
     "metadata": {},
     "output_type": "display_data"
    }
   ],
   "source": [
    "acc = history.history['accuracy']\n",
    "val_acc = history.history['val_accuracy']\n",
    "loss = history.history['loss']\n",
    "val_loss = history.history['val_loss']\n",
    "\n",
    "epochs = range(len(acc))\n",
    "\n",
    "plt.plot(epochs, acc, 'r', label='Training accuracy')\n",
    "plt.plot(epochs, val_acc, 'b', label='Validation accuracy')\n",
    "plt.title('Training and validation accuracy')\n",
    "plt.legend(loc=0)\n",
    "plt.figure()\n",
    "\n",
    "plt.show()"
   ]
  },
  {
   "cell_type": "code",
   "execution_count": 13,
   "metadata": {},
   "outputs": [
    {
     "data": {
      "image/png": "[encoded data removed]",
      "text/plain": [
       "<Figure size 432x288 with 1 Axes>"
      ]
     },
     "metadata": {
      "needs_background": "light"
     },
     "output_type": "display_data"
    },
    {
     "data": {
      "text/plain": [
       "<Figure size 432x288 with 0 Axes>"
      ]
     },
     "metadata": {},
     "output_type": "display_data"
    }
   ],
   "source": [
    "plt.plot(epochs, loss, 'r', label='Training loss')\n",
    "plt.plot(epochs, val_loss, 'b', label='Validation loss')\n",
    "plt.title('Training and validation loss')\n",
    "plt.legend(loc=0)\n",
    "plt.figure()\n",
    "\n",
    "plt.show()"
   ]
  },
  {
   "cell_type": "code",
   "execution_count": 14,
   "metadata": {},
   "outputs": [
    {
     "name": "stdout",
     "output_type": "stream",
     "text": [
      "463/463 - 2s - loss: 0.4539 - accuracy: 0.8880 - 2s/epoch - 5ms/step\n",
      "Test Loss:  0.4538513422012329\n",
      "Test Accuracy:  0.8880329728126526\n"
     ]
    }
   ],
   "source": [
    "test_loss, test_accuracy = model.evaluate(test_letters, test_labels, verbose = 2)\n",
    "\n",
    "print(\"Test Loss: \",test_loss)\n",
    "print(\"Test Accuracy: \",test_accuracy)"
   ]
  },
  {
   "cell_type": "code",
   "execution_count": null,
   "metadata": {},
   "outputs": [],
   "source": []
  }
 ],
 "metadata": {
  "language_info": {
   "name": "python"
  },
  "orig_nbformat": 4
 },
 "nbformat": 4,
 "nbformat_minor": 2
}
