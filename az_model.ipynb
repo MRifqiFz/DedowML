{
 "cells": [
  {
   "cell_type": "code",
   "execution_count": 1,
   "metadata": {},
   "outputs": [],
   "source": [
    "import os\n",
    "import numpy as np\n",
    "import matplotlib.pyplot as plt\n",
    "import pandas as pd\n",
    "import tensorflow as tf\n",
    "import random\n",
    "import wget\n",
    "import zipfile\n",
    "from sklearn.model_selection import train_test_split\n",
    "from keras.utils import np_utils"
   ]
  },
  {
   "cell_type": "code",
   "execution_count": 2,
   "metadata": {},
   "outputs": [],
   "source": [
    "url = \"https://storage.googleapis.com/didow-ml-datasets/a-z-handwritten-data.zip\"\n",
    "if not os.path.exists('a-z-handwritten-data.zip'):\n",
    "    filename = wget.download(url)"
   ]
  },
  {
   "cell_type": "code",
   "execution_count": 3,
   "metadata": {},
   "outputs": [],
   "source": [
    "local_zip = 'a-z-handwritten-data.zip'\n",
    "\n",
    "zip_ref = zipfile.ZipFile(local_zip, 'r')\n",
    "\n",
    "zip_ref.extractall('./Dataset/')\n",
    "zip_ref.close()"
   ]
  },
  {
   "cell_type": "code",
   "execution_count": 4,
   "metadata": {},
   "outputs": [],
   "source": [
    "data = pd.read_csv('Dataset/A_Z Handwritten Data.csv')"
   ]
  },
  {
   "cell_type": "code",
   "execution_count": 5,
   "metadata": {},
   "outputs": [
    {
     "data": {
      "text/html": [
       "<div>\n",
       "<style scoped>\n",
       "    .dataframe tbody tr th:only-of-type {\n",
       "        vertical-align: middle;\n",
       "    }\n",
       "\n",
       "    .dataframe tbody tr th {\n",
       "        vertical-align: top;\n",
       "    }\n",
       "\n",
       "    .dataframe thead th {\n",
       "        text-align: right;\n",
       "    }\n",
       "</style>\n",
       "<table border=\"1\" class=\"dataframe\">\n",
       "  <thead>\n",
       "    <tr style=\"text-align: right;\">\n",
       "      <th></th>\n",
       "      <th>0</th>\n",
       "      <th>0.1</th>\n",
       "      <th>0.2</th>\n",
       "      <th>0.3</th>\n",
       "      <th>0.4</th>\n",
       "      <th>0.5</th>\n",
       "      <th>0.6</th>\n",
       "      <th>0.7</th>\n",
       "      <th>0.8</th>\n",
       "      <th>0.9</th>\n",
       "      <th>...</th>\n",
       "      <th>0.639</th>\n",
       "      <th>0.640</th>\n",
       "      <th>0.641</th>\n",
       "      <th>0.642</th>\n",
       "      <th>0.643</th>\n",
       "      <th>0.644</th>\n",
       "      <th>0.645</th>\n",
       "      <th>0.646</th>\n",
       "      <th>0.647</th>\n",
       "      <th>0.648</th>\n",
       "    </tr>\n",
       "  </thead>\n",
       "  <tbody>\n",
       "    <tr>\n",
       "      <th>0</th>\n",
       "      <td>0</td>\n",
       "      <td>0</td>\n",
       "      <td>0</td>\n",
       "      <td>0</td>\n",
       "      <td>0</td>\n",
       "      <td>0</td>\n",
       "      <td>0</td>\n",
       "      <td>0</td>\n",
       "      <td>0</td>\n",
       "      <td>0</td>\n",
       "      <td>...</td>\n",
       "      <td>0</td>\n",
       "      <td>0</td>\n",
       "      <td>0</td>\n",
       "      <td>0</td>\n",
       "      <td>0</td>\n",
       "      <td>0</td>\n",
       "      <td>0</td>\n",
       "      <td>0</td>\n",
       "      <td>0</td>\n",
       "      <td>0</td>\n",
       "    </tr>\n",
       "    <tr>\n",
       "      <th>1</th>\n",
       "      <td>0</td>\n",
       "      <td>0</td>\n",
       "      <td>0</td>\n",
       "      <td>0</td>\n",
       "      <td>0</td>\n",
       "      <td>0</td>\n",
       "      <td>0</td>\n",
       "      <td>0</td>\n",
       "      <td>0</td>\n",
       "      <td>0</td>\n",
       "      <td>...</td>\n",
       "      <td>0</td>\n",
       "      <td>0</td>\n",
       "      <td>0</td>\n",
       "      <td>0</td>\n",
       "      <td>0</td>\n",
       "      <td>0</td>\n",
       "      <td>0</td>\n",
       "      <td>0</td>\n",
       "      <td>0</td>\n",
       "      <td>0</td>\n",
       "    </tr>\n",
       "    <tr>\n",
       "      <th>2</th>\n",
       "      <td>0</td>\n",
       "      <td>0</td>\n",
       "      <td>0</td>\n",
       "      <td>0</td>\n",
       "      <td>0</td>\n",
       "      <td>0</td>\n",
       "      <td>0</td>\n",
       "      <td>0</td>\n",
       "      <td>0</td>\n",
       "      <td>0</td>\n",
       "      <td>...</td>\n",
       "      <td>0</td>\n",
       "      <td>0</td>\n",
       "      <td>0</td>\n",
       "      <td>0</td>\n",
       "      <td>0</td>\n",
       "      <td>0</td>\n",
       "      <td>0</td>\n",
       "      <td>0</td>\n",
       "      <td>0</td>\n",
       "      <td>0</td>\n",
       "    </tr>\n",
       "    <tr>\n",
       "      <th>3</th>\n",
       "      <td>0</td>\n",
       "      <td>0</td>\n",
       "      <td>0</td>\n",
       "      <td>0</td>\n",
       "      <td>0</td>\n",
       "      <td>0</td>\n",
       "      <td>0</td>\n",
       "      <td>0</td>\n",
       "      <td>0</td>\n",
       "      <td>0</td>\n",
       "      <td>...</td>\n",
       "      <td>0</td>\n",
       "      <td>0</td>\n",
       "      <td>0</td>\n",
       "      <td>0</td>\n",
       "      <td>0</td>\n",
       "      <td>0</td>\n",
       "      <td>0</td>\n",
       "      <td>0</td>\n",
       "      <td>0</td>\n",
       "      <td>0</td>\n",
       "    </tr>\n",
       "    <tr>\n",
       "      <th>4</th>\n",
       "      <td>0</td>\n",
       "      <td>0</td>\n",
       "      <td>0</td>\n",
       "      <td>0</td>\n",
       "      <td>0</td>\n",
       "      <td>0</td>\n",
       "      <td>0</td>\n",
       "      <td>0</td>\n",
       "      <td>0</td>\n",
       "      <td>0</td>\n",
       "      <td>...</td>\n",
       "      <td>0</td>\n",
       "      <td>0</td>\n",
       "      <td>0</td>\n",
       "      <td>0</td>\n",
       "      <td>0</td>\n",
       "      <td>0</td>\n",
       "      <td>0</td>\n",
       "      <td>0</td>\n",
       "      <td>0</td>\n",
       "      <td>0</td>\n",
       "    </tr>\n",
       "  </tbody>\n",
       "</table>\n",
       "<p>5 rows × 785 columns</p>\n",
       "</div>"
      ],
      "text/plain": [
       "   0  0.1  0.2  0.3  0.4  0.5  0.6  0.7  0.8  0.9  ...  0.639  0.640  0.641  \\\n",
       "0  0    0    0    0    0    0    0    0    0    0  ...      0      0      0   \n",
       "1  0    0    0    0    0    0    0    0    0    0  ...      0      0      0   \n",
       "2  0    0    0    0    0    0    0    0    0    0  ...      0      0      0   \n",
       "3  0    0    0    0    0    0    0    0    0    0  ...      0      0      0   \n",
       "4  0    0    0    0    0    0    0    0    0    0  ...      0      0      0   \n",
       "\n",
       "   0.642  0.643  0.644  0.645  0.646  0.647  0.648  \n",
       "0      0      0      0      0      0      0      0  \n",
       "1      0      0      0      0      0      0      0  \n",
       "2      0      0      0      0      0      0      0  \n",
       "3      0      0      0      0      0      0      0  \n",
       "4      0      0      0      0      0      0      0  \n",
       "\n",
       "[5 rows x 785 columns]"
      ]
     },
     "execution_count": 5,
     "metadata": {},
     "output_type": "execute_result"
    }
   ],
   "source": [
    "data.head()"
   ]
  },
  {
   "cell_type": "code",
   "execution_count": 6,
   "metadata": {},
   "outputs": [],
   "source": [
    "data_labels = np.array(data.iloc[:,0].values)\n",
    "data_letters = np.array(data.iloc[:,1:].values)"
   ]
  },
  {
   "cell_type": "code",
   "execution_count": 7,
   "metadata": {},
   "outputs": [],
   "source": [
    "def reshape_normalize(data):\n",
    "    data = data / 255.0\n",
    "    data = data.reshape(len(data), 28, 28, 1)\n",
    "    return data"
   ]
  },
  {
   "cell_type": "code",
   "execution_count": 8,
   "metadata": {},
   "outputs": [],
   "source": [
    "x_train, x_test, y_train, y_test = train_test_split(data_letters,\n",
    "                                                  data_labels,\n",
    "                                                  test_size=0.2,\n",
    "                                                  random_state=42)"
   ]
  },
  {
   "cell_type": "code",
   "execution_count": 9,
   "metadata": {},
   "outputs": [],
   "source": [
    "x_train = reshape_normalize(x_train)\n",
    "x_test = reshape_normalize(x_test)"
   ]
  },
  {
   "cell_type": "code",
   "execution_count": 10,
   "metadata": {},
   "outputs": [
    {
     "data": {
      "image/png": "[encoded data removed]",
      "text/plain": [
       "<Figure size 432x288 with 1 Axes>"
      ]
     },
     "metadata": {
      "needs_background": "light"
     },
     "output_type": "display_data"
    }
   ],
   "source": [
    "letters = ['A', 'B', 'C', 'D', 'E', 'F', 'G', 'H', 'I', 'J', 'K', 'L', 'M', 'N', 'O', 'P', 'Q', 'R', 'S', 'T', 'U', 'V', 'W', 'X', 'Y', 'Z']\n",
    "\n",
    "def show_image(image, label):\n",
    "    image = image.reshape([28, 28])\n",
    "    plt.title('Label :' + letters[label])\n",
    "    plt.imshow(image)\n",
    "\n",
    "n = random.randint(0, len(x_train))\n",
    "show_image(x_train[n], y_train[n])"
   ]
  },
  {
   "cell_type": "code",
   "execution_count": 11,
   "metadata": {},
   "outputs": [],
   "source": [
    "y_train = np_utils.to_categorical(y_train, 26)\n",
    "y_test = np_utils.to_categorical(y_test, 26)"
   ]
  },
  {
   "cell_type": "code",
   "execution_count": 12,
   "metadata": {},
   "outputs": [
    {
     "name": "stdout",
     "output_type": "stream",
     "text": [
      "training set:  (297960, 28, 28, 1) (297960, 26)\n",
      "test set:  (74490, 28, 28, 1) (74490, 26)\n"
     ]
    }
   ],
   "source": [
    "print('training set: ', x_train.shape, y_train.shape)\n",
    "print('test set: ', x_test.shape, y_test.shape)\n"
   ]
  },
  {
   "cell_type": "code",
   "execution_count": 13,
   "metadata": {},
   "outputs": [
    {
     "name": "stdout",
     "output_type": "stream",
     "text": [
      "Model: \"sequential\"\n",
      "_________________________________________________________________\n",
      " Layer (type)                Output Shape              Param #   \n",
      "=================================================================\n",
      " conv2d (Conv2D)             (None, 26, 26, 32)        320       \n",
      "                                                                 \n",
      " max_pooling2d (MaxPooling2D  (None, 13, 13, 32)       0         \n",
      " )                                                               \n",
      "                                                                 \n",
      " conv2d_1 (Conv2D)           (None, 11, 11, 64)        18496     \n",
      "                                                                 \n",
      " max_pooling2d_1 (MaxPooling  (None, 5, 5, 64)         0         \n",
      " 2D)                                                             \n",
      "                                                                 \n",
      " dropout (Dropout)           (None, 5, 5, 64)          0         \n",
      "                                                                 \n",
      " flatten (Flatten)           (None, 1600)              0         \n",
      "                                                                 \n",
      " dense (Dense)               (None, 128)               204928    \n",
      "                                                                 \n",
      " dropout_1 (Dropout)         (None, 128)               0         \n",
      "                                                                 \n",
      " dense_1 (Dense)             (None, 26)                3354      \n",
      "                                                                 \n",
      "=================================================================\n",
      "Total params: 227,098\n",
      "Trainable params: 227,098\n",
      "Non-trainable params: 0\n",
      "_________________________________________________________________\n"
     ]
    }
   ],
   "source": [
    "model = tf.keras.Sequential([ \n",
    "    tf.keras.layers.Conv2D(32, 3, input_shape=(28,28,1)),\n",
    "    tf.keras.layers.MaxPooling2D(2,2),\n",
    "    tf.keras.layers.Conv2D(64, 3, activation='relu'),\n",
    "    tf.keras.layers.MaxPooling2D(2, 2),\n",
    "    tf.keras.layers.Dropout(0.25),\n",
    "    tf.keras.layers.Flatten(),\n",
    "    tf.keras.layers.Dense(128, activation='relu'),\n",
    "    tf.keras.layers.Dropout(0.5),\n",
    "    tf.keras.layers.Dense(26, activation='softmax')\n",
    "])\n",
    "\n",
    "model.compile(optimizer='adam', loss='categorical_crossentropy', metrics=['accuracy'])\n",
    "model.summary()"
   ]
  },
  {
   "cell_type": "code",
   "execution_count": 14,
   "metadata": {},
   "outputs": [
    {
     "name": "stdout",
     "output_type": "stream",
     "text": [
      "Epoch 1/50\n",
      "932/932 [==============================] - 7s 5ms/step - loss: 0.4684 - accuracy: 0.8668 - val_loss: 0.1034 - val_accuracy: 0.9709\n",
      "Epoch 2/50\n",
      "932/932 [==============================] - 4s 4ms/step - loss: 0.1832 - accuracy: 0.9476 - val_loss: 0.0823 - val_accuracy: 0.9768\n",
      "Epoch 3/50\n",
      "932/932 [==============================] - 4s 4ms/step - loss: 0.1474 - accuracy: 0.9583 - val_loss: 0.0640 - val_accuracy: 0.9823\n",
      "Epoch 4/50\n",
      "932/932 [==============================] - 4s 4ms/step - loss: 0.1251 - accuracy: 0.9640 - val_loss: 0.0603 - val_accuracy: 0.9832\n",
      "Epoch 5/50\n",
      "932/932 [==============================] - 4s 4ms/step - loss: 0.1141 - accuracy: 0.9676 - val_loss: 0.0566 - val_accuracy: 0.9845\n",
      "Epoch 6/50\n",
      "932/932 [==============================] - 4s 4ms/step - loss: 0.1064 - accuracy: 0.9693 - val_loss: 0.0522 - val_accuracy: 0.9855\n",
      "Epoch 7/50\n",
      "932/932 [==============================] - 4s 4ms/step - loss: 0.0978 - accuracy: 0.9719 - val_loss: 0.0514 - val_accuracy: 0.9865\n",
      "Epoch 8/50\n",
      "932/932 [==============================] - 4s 4ms/step - loss: 0.0911 - accuracy: 0.9737 - val_loss: 0.0475 - val_accuracy: 0.9870\n",
      "Epoch 9/50\n",
      "932/932 [==============================] - 4s 4ms/step - loss: 0.0875 - accuracy: 0.9750 - val_loss: 0.0443 - val_accuracy: 0.9879\n",
      "Epoch 10/50\n",
      "932/932 [==============================] - 4s 4ms/step - loss: 0.0826 - accuracy: 0.9760 - val_loss: 0.0431 - val_accuracy: 0.9878\n",
      "Epoch 11/50\n",
      "932/932 [==============================] - 4s 4ms/step - loss: 0.0779 - accuracy: 0.9770 - val_loss: 0.0426 - val_accuracy: 0.9888\n",
      "Epoch 12/50\n",
      "932/932 [==============================] - 4s 4ms/step - loss: 0.0744 - accuracy: 0.9782 - val_loss: 0.0411 - val_accuracy: 0.9893\n",
      "Epoch 13/50\n",
      "932/932 [==============================] - 4s 4ms/step - loss: 0.0728 - accuracy: 0.9787 - val_loss: 0.0396 - val_accuracy: 0.9893\n",
      "Epoch 14/50\n",
      "932/932 [==============================] - 4s 4ms/step - loss: 0.0686 - accuracy: 0.9801 - val_loss: 0.0393 - val_accuracy: 0.9894\n",
      "Epoch 15/50\n",
      "932/932 [==============================] - 4s 4ms/step - loss: 0.0672 - accuracy: 0.9800 - val_loss: 0.0368 - val_accuracy: 0.9898\n",
      "Epoch 16/50\n",
      "932/932 [==============================] - 4s 4ms/step - loss: 0.0641 - accuracy: 0.9806 - val_loss: 0.0377 - val_accuracy: 0.9901\n",
      "Epoch 17/50\n",
      "932/932 [==============================] - 4s 4ms/step - loss: 0.0621 - accuracy: 0.9816 - val_loss: 0.0359 - val_accuracy: 0.9904\n",
      "Epoch 18/50\n",
      "932/932 [==============================] - 4s 4ms/step - loss: 0.0601 - accuracy: 0.9821 - val_loss: 0.0370 - val_accuracy: 0.9902\n",
      "Epoch 19/50\n",
      "932/932 [==============================] - 4s 4ms/step - loss: 0.0590 - accuracy: 0.9823 - val_loss: 0.0370 - val_accuracy: 0.9908\n",
      "Epoch 20/50\n",
      "932/932 [==============================] - 4s 4ms/step - loss: 0.0593 - accuracy: 0.9819 - val_loss: 0.0356 - val_accuracy: 0.9909\n",
      "Epoch 21/50\n",
      "932/932 [==============================] - 4s 4ms/step - loss: 0.0568 - accuracy: 0.9831 - val_loss: 0.0351 - val_accuracy: 0.9908\n",
      "Epoch 22/50\n",
      "932/932 [==============================] - 4s 4ms/step - loss: 0.0553 - accuracy: 0.9833 - val_loss: 0.0338 - val_accuracy: 0.9913\n",
      "Epoch 23/50\n",
      "932/932 [==============================] - 4s 4ms/step - loss: 0.0541 - accuracy: 0.9832 - val_loss: 0.0342 - val_accuracy: 0.9914\n",
      "Epoch 24/50\n",
      "932/932 [==============================] - 4s 4ms/step - loss: 0.0526 - accuracy: 0.9840 - val_loss: 0.0332 - val_accuracy: 0.9917\n",
      "Epoch 25/50\n",
      "932/932 [==============================] - 4s 4ms/step - loss: 0.0516 - accuracy: 0.9844 - val_loss: 0.0331 - val_accuracy: 0.9914\n",
      "Epoch 26/50\n",
      "932/932 [==============================] - 4s 4ms/step - loss: 0.0500 - accuracy: 0.9846 - val_loss: 0.0339 - val_accuracy: 0.9907\n",
      "Epoch 27/50\n",
      "932/932 [==============================] - 4s 4ms/step - loss: 0.0512 - accuracy: 0.9845 - val_loss: 0.0324 - val_accuracy: 0.9915\n",
      "Epoch 28/50\n",
      "932/932 [==============================] - 4s 4ms/step - loss: 0.0499 - accuracy: 0.9849 - val_loss: 0.0327 - val_accuracy: 0.9917\n",
      "Epoch 29/50\n",
      "932/932 [==============================] - 4s 4ms/step - loss: 0.0476 - accuracy: 0.9855 - val_loss: 0.0327 - val_accuracy: 0.9922\n",
      "Epoch 30/50\n",
      "932/932 [==============================] - 4s 4ms/step - loss: 0.0473 - accuracy: 0.9853 - val_loss: 0.0320 - val_accuracy: 0.9919\n",
      "Epoch 31/50\n",
      "932/932 [==============================] - 4s 4ms/step - loss: 0.0458 - accuracy: 0.9859 - val_loss: 0.0358 - val_accuracy: 0.9913\n",
      "Epoch 32/50\n",
      "932/932 [==============================] - 4s 4ms/step - loss: 0.0471 - accuracy: 0.9853 - val_loss: 0.0329 - val_accuracy: 0.9918\n",
      "Epoch 33/50\n",
      "932/932 [==============================] - 4s 4ms/step - loss: 0.0452 - accuracy: 0.9860 - val_loss: 0.0315 - val_accuracy: 0.9919\n",
      "Epoch 34/50\n",
      "932/932 [==============================] - 4s 4ms/step - loss: 0.0445 - accuracy: 0.9861 - val_loss: 0.0303 - val_accuracy: 0.9929\n",
      "Epoch 35/50\n",
      "932/932 [==============================] - 4s 4ms/step - loss: 0.0456 - accuracy: 0.9860 - val_loss: 0.0312 - val_accuracy: 0.9925\n",
      "Epoch 36/50\n",
      "932/932 [==============================] - 4s 4ms/step - loss: 0.0425 - accuracy: 0.9867 - val_loss: 0.0304 - val_accuracy: 0.9924\n",
      "Epoch 37/50\n",
      "932/932 [==============================] - 4s 4ms/step - loss: 0.0445 - accuracy: 0.9861 - val_loss: 0.0314 - val_accuracy: 0.9924\n",
      "Epoch 38/50\n",
      "932/932 [==============================] - 4s 4ms/step - loss: 0.0420 - accuracy: 0.9867 - val_loss: 0.0303 - val_accuracy: 0.9926\n",
      "Epoch 39/50\n",
      "932/932 [==============================] - 4s 4ms/step - loss: 0.0415 - accuracy: 0.9871 - val_loss: 0.0318 - val_accuracy: 0.9921\n",
      "Epoch 40/50\n",
      "932/932 [==============================] - 4s 4ms/step - loss: 0.0439 - accuracy: 0.9861 - val_loss: 0.0305 - val_accuracy: 0.9927\n",
      "Epoch 41/50\n",
      "932/932 [==============================] - 4s 4ms/step - loss: 0.0412 - accuracy: 0.9871 - val_loss: 0.0310 - val_accuracy: 0.9922\n",
      "Epoch 42/50\n",
      "932/932 [==============================] - 4s 4ms/step - loss: 0.0407 - accuracy: 0.9870 - val_loss: 0.0302 - val_accuracy: 0.9928\n",
      "Epoch 43/50\n",
      "932/932 [==============================] - 4s 4ms/step - loss: 0.0407 - accuracy: 0.9875 - val_loss: 0.0306 - val_accuracy: 0.9928\n",
      "Epoch 44/50\n",
      "932/932 [==============================] - 4s 4ms/step - loss: 0.0412 - accuracy: 0.9869 - val_loss: 0.0320 - val_accuracy: 0.9924\n",
      "Epoch 45/50\n",
      "932/932 [==============================] - 4s 4ms/step - loss: 0.0405 - accuracy: 0.9873 - val_loss: 0.0318 - val_accuracy: 0.9929\n",
      "Epoch 46/50\n",
      "932/932 [==============================] - 4s 4ms/step - loss: 0.0399 - accuracy: 0.9875 - val_loss: 0.0321 - val_accuracy: 0.9925\n",
      "Epoch 47/50\n",
      "932/932 [==============================] - 4s 4ms/step - loss: 0.0401 - accuracy: 0.9876 - val_loss: 0.0291 - val_accuracy: 0.9931\n",
      "Epoch 48/50\n",
      "932/932 [==============================] - 4s 4ms/step - loss: 0.0381 - accuracy: 0.9878 - val_loss: 0.0312 - val_accuracy: 0.9932\n",
      "Epoch 49/50\n",
      "932/932 [==============================] - 4s 4ms/step - loss: 0.0396 - accuracy: 0.9873 - val_loss: 0.0300 - val_accuracy: 0.9928\n",
      "Epoch 50/50\n",
      "932/932 [==============================] - 4s 4ms/step - loss: 0.0387 - accuracy: 0.9877 - val_loss: 0.0291 - val_accuracy: 0.9930\n"
     ]
    }
   ],
   "source": [
    "history = model.fit(x_train, y_train, validation_split = 0.2, epochs = 50, batch_size=256, verbose=1)"
   ]
  },
  {
   "cell_type": "code",
   "execution_count": 15,
   "metadata": {},
   "outputs": [
    {
     "data": {
      "image/png": "[encoded data removed]",
      "text/plain": [
       "<Figure size 432x288 with 1 Axes>"
      ]
     },
     "metadata": {
      "needs_background": "light"
     },
     "output_type": "display_data"
    },
    {
     "data": {
      "text/plain": [
       "<Figure size 432x288 with 0 Axes>"
      ]
     },
     "metadata": {},
     "output_type": "display_data"
    }
   ],
   "source": [
    "acc = history.history['accuracy']\n",
    "val_acc = history.history['val_accuracy']\n",
    "loss = history.history['loss']\n",
    "val_loss = history.history['val_loss']\n",
    "\n",
    "epochs = range(len(acc))\n",
    "\n",
    "plt.plot(epochs, acc, 'r', label='Training accuracy')\n",
    "plt.plot(epochs, val_acc, 'b', label='Validation accuracy')\n",
    "plt.title('Training and validation accuracy')\n",
    "plt.legend(loc=0)\n",
    "plt.figure()\n",
    "\n",
    "plt.show()"
   ]
  },
  {
   "cell_type": "code",
   "execution_count": 16,
   "metadata": {},
   "outputs": [
    {
     "data": {
      "image/png": "[encoded data removed]",
      "text/plain": [
       "<Figure size 432x288 with 1 Axes>"
      ]
     },
     "metadata": {
      "needs_background": "light"
     },
     "output_type": "display_data"
    },
    {
     "data": {
      "text/plain": [
       "<Figure size 432x288 with 0 Axes>"
      ]
     },
     "metadata": {},
     "output_type": "display_data"
    }
   ],
   "source": [
    "plt.plot(epochs, loss, 'r', label='Training loss')\n",
    "plt.plot(epochs, val_loss, 'b', label='Validation loss')\n",
    "plt.title('Training and validation loss')\n",
    "plt.legend(loc=0)\n",
    "plt.figure()\n",
    "\n",
    "plt.show()"
   ]
  },
  {
   "cell_type": "code",
   "execution_count": 17,
   "metadata": {},
   "outputs": [
    {
     "name": "stdout",
     "output_type": "stream",
     "text": [
      "2328/2328 - 3s - loss: 0.0296 - accuracy: 0.9937 - 3s/epoch - 1ms/step\n",
      "Test Loss:  0.029644588008522987\n",
      "Test Accuracy:  0.993677020072937\n"
     ]
    }
   ],
   "source": [
    "test_loss, test_accuracy = model.evaluate(x_test, y_test, verbose = 2)\n",
    "\n",
    "print(\"Test Loss: \",test_loss)\n",
    "print(\"Test Accuracy: \",test_accuracy)"
   ]
  },
  {
   "cell_type": "code",
   "execution_count": 18,
   "metadata": {},
   "outputs": [
    {
     "data": {
      "text/plain": [
       "array([[0., 0., 0., ..., 0., 0., 0.],\n",
       "       [0., 0., 0., ..., 0., 0., 0.],\n",
       "       [0., 0., 1., ..., 0., 0., 0.],\n",
       "       ...,\n",
       "       [0., 0., 0., ..., 0., 0., 0.],\n",
       "       [0., 0., 0., ..., 0., 0., 0.],\n",
       "       [0., 0., 0., ..., 0., 0., 0.]], dtype=float32)"
      ]
     },
     "execution_count": 18,
     "metadata": {},
     "output_type": "execute_result"
    }
   ],
   "source": [
    "y_test"
   ]
  },
  {
   "cell_type": "code",
   "execution_count": 19,
   "metadata": {},
   "outputs": [
    {
     "name": "stdout",
     "output_type": "stream",
     "text": [
      "1/1 [==============================] - 0s 97ms/step\n",
      "1/1 [==============================] - 0s 11ms/step\n",
      "1/1 [==============================] - 0s 12ms/step\n",
      "1/1 [==============================] - 0s 11ms/step\n",
      "1/1 [==============================] - 0s 9ms/step\n",
      "1/1 [==============================] - 0s 10ms/step\n",
      "1/1 [==============================] - 0s 10ms/step\n",
      "1/1 [==============================] - 0s 9ms/step\n",
      "1/1 [==============================] - 0s 10ms/step\n",
      "1/1 [==============================] - 0s 10ms/step\n",
      "1/1 [==============================] - 0s 10ms/step\n",
      "1/1 [==============================] - 0s 10ms/step\n",
      "1/1 [==============================] - 0s 11ms/step\n",
      "1/1 [==============================] - 0s 9ms/step\n",
      "1/1 [==============================] - 0s 10ms/step\n",
      "1/1 [==============================] - 0s 10ms/step\n",
      "1/1 [==============================] - 0s 11ms/step\n",
      "1/1 [==============================] - 0s 11ms/step\n",
      "1/1 [==============================] - 0s 11ms/step\n",
      "1/1 [==============================] - 0s 10ms/step\n",
      "1/1 [==============================] - 0s 10ms/step\n",
      "1/1 [==============================] - 0s 10ms/step\n",
      "1/1 [==============================] - 0s 11ms/step\n",
      "1/1 [==============================] - 0s 9ms/step\n",
      "1/1 [==============================] - 0s 11ms/step\n"
     ]
    },
    {
     "data": {
      "image/png": "[encoded data removed]",
      "text/plain": [
       "<Figure size 720x1008 with 25 Axes>"
      ]
     },
     "metadata": {
      "needs_background": "light"
     },
     "output_type": "display_data"
    }
   ],
   "source": [
    "fig, axes = plt.subplots(5,5, figsize=(10,14))\n",
    "axes = axes.flatten()\n",
    "\n",
    "for i,ax in enumerate(axes):\n",
    "    n = random.randint(0, len(x_test))\n",
    "    img = np.reshape(x_test[n], (28,28))\n",
    "    # img = np.fliplr(img)\n",
    "    # img = np.rot90(img)\n",
    "    ax.imshow(img, cmap=\"Greys\")\n",
    "    img_final =np.reshape(img, (1,28,28,1)) # reshapng it for passing into model for prediction\n",
    "    pred = letters[np.argmax(model.predict(img_final))]\n",
    "    ax.set_title(\"Prediction: {}\\nLabel: {}\".format(pred,letters[np.argmax(y_test[n])]))\n",
    "    ax.grid()"
   ]
  },
  {
   "cell_type": "code",
   "execution_count": 20,
   "metadata": {},
   "outputs": [],
   "source": [
    "model_version = '2'\n",
    "model_name = 'az_handwritten'\n",
    "file_name = 'az_model'\n",
    "save_path = \"./Model/{}/{}/{}.h5\".format(model_name, model_version, file_name)\n",
    "model.save(save_path)"
   ]
  },
  {
   "cell_type": "code",
   "execution_count": 21,
   "metadata": {},
   "outputs": [
    {
     "name": "stderr",
     "output_type": "stream",
     "text": [
      "WARNING:absl:Found untraced functions such as _jit_compiled_convolution_op, _jit_compiled_convolution_op while saving (showing 2 of 2). These functions will not be directly callable after loading.\n"
     ]
    },
    {
     "name": "stdout",
     "output_type": "stream",
     "text": [
      "INFO:tensorflow:Assets written to: ./Model/az_handwritten/2/az_model\\assets\n"
     ]
    },
    {
     "name": "stderr",
     "output_type": "stream",
     "text": [
      "INFO:tensorflow:Assets written to: ./Model/az_handwritten/2/az_model\\assets\n"
     ]
    }
   ],
   "source": [
    "save_path = \"./Model/{}/{}/{}\".format(model_name, model_version, file_name)\n",
    "tf.saved_model.save(model, save_path)\n"
   ]
  },
  {
   "cell_type": "code",
   "execution_count": null,
   "metadata": {},
   "outputs": [],
   "source": []
  }
 ],
 "metadata": {
  "interpreter": {
   "hash": "f49d1d624676e32264d1c8e10ba1cf881153b7980d7b6a6c7a53db057505eedd"
  },
  "kernelspec": {
   "display_name": "Python 3.10.0 ('tf2.9')",
   "language": "python",
   "name": "python3"
  },
  "language_info": {
   "codemirror_mode": {
    "name": "ipython",
    "version": 3
   },
   "file_extension": ".py",
   "mimetype": "text/x-python",
   "name": "python",
   "nbconvert_exporter": "python",
   "pygments_lexer": "ipython3",
   "version": "3.10.0"
  },
  "orig_nbformat": 4
 },
 "nbformat": 4,
 "nbformat_minor": 2
}
